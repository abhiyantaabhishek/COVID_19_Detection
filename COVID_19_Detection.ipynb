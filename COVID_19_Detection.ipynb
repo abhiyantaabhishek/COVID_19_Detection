{
  "nbformat": 4,
  "nbformat_minor": 0,
  "metadata": {
    "colab": {
      "name": "COVID_19_Detection.ipynb",
      "provenance": [],
      "collapsed_sections": [],
      "include_colab_link": true
    },
    "kernelspec": {
      "name": "python3",
      "display_name": "Python 3"
    },
    "accelerator": "GPU"
  },
  "cells": [
    {
      "cell_type": "markdown",
      "metadata": {
        "id": "view-in-github",
        "colab_type": "text"
      },
      "source": [
        "<a href=\"https://colab.research.google.com/github/abhiyantaabhishek/COVID_19_Detection/blob/master/COVID_19_Detection.ipynb\" target=\"_parent\"><img src=\"https://colab.research.google.com/assets/colab-badge.svg\" alt=\"Open In Colab\"/></a>"
      ]
    },
    {
      "cell_type": "code",
      "metadata": {
        "id": "H3TIV6DdTDMz",
        "colab_type": "code",
        "colab": {}
      },
      "source": [
        "import os\n",
        "import numpy as np"
      ],
      "execution_count": 18,
      "outputs": []
    },
    {
      "cell_type": "code",
      "metadata": {
        "id": "B2KjhtA7rBn7",
        "colab_type": "code",
        "colab": {
          "base_uri": "https://localhost:8080/",
          "height": 124
        },
        "outputId": "e89fe0c6-d7d0-4761-9b2b-4f116fd7f6f6"
      },
      "source": [
        "!git clone https://github.com/abhiyantaabhishek/COVID_19_Detection"
      ],
      "execution_count": 2,
      "outputs": [
        {
          "output_type": "stream",
          "text": [
            "Cloning into 'COVID_19_Detection'...\n",
            "remote: Enumerating objects: 2, done.\u001b[K\n",
            "remote: Counting objects: 100% (2/2), done.\u001b[K\n",
            "remote: Compressing objects: 100% (2/2), done.\u001b[K\n",
            "remote: Total 750 (delta 0), reused 2 (delta 0), pack-reused 748\u001b[K\n",
            "Receiving objects: 100% (750/750), 85.65 MiB | 22.28 MiB/s, done.\n"
          ],
          "name": "stdout"
        }
      ]
    },
    {
      "cell_type": "code",
      "metadata": {
        "id": "QCG2gd1fSipC",
        "colab_type": "code",
        "colab": {
          "base_uri": "https://localhost:8080/",
          "height": 35
        },
        "outputId": "a2140968-c556-4a72-db15-c1c50d1da55f"
      },
      "source": [
        "ls"
      ],
      "execution_count": 3,
      "outputs": [
        {
          "output_type": "stream",
          "text": [
            "\u001b[0m\u001b[01;34mCOVID_19_Detection\u001b[0m/  \u001b[01;34msample_data\u001b[0m/\n"
          ],
          "name": "stdout"
        }
      ]
    },
    {
      "cell_type": "code",
      "metadata": {
        "id": "P6zT_JWtSzoS",
        "colab_type": "code",
        "colab": {
          "base_uri": "https://localhost:8080/",
          "height": 35
        },
        "outputId": "78b878c3-0cee-4bc0-90ff-5c16f57c1db5"
      },
      "source": [
        "%cd COVID_19_Detection"
      ],
      "execution_count": 4,
      "outputs": [
        {
          "output_type": "stream",
          "text": [
            "/content/COVID_19_Detection\n"
          ],
          "name": "stdout"
        }
      ]
    },
    {
      "cell_type": "code",
      "metadata": {
        "id": "YddG7_6FS580",
        "colab_type": "code",
        "colab": {}
      },
      "source": [
        "CT_COVID = os.listdir('CT_COVID')"
      ],
      "execution_count": 8,
      "outputs": []
    },
    {
      "cell_type": "code",
      "metadata": {
        "id": "pa4mqizqTZ-9",
        "colab_type": "code",
        "colab": {}
      },
      "source": [
        "CT_NonCOVID = os.listdir('CT_NonCOVID')"
      ],
      "execution_count": 10,
      "outputs": []
    },
    {
      "cell_type": "code",
      "metadata": {
        "id": "6c61mqYDTdtj",
        "colab_type": "code",
        "colab": {}
      },
      "source": [
        "CT_COVID_label =  [1]*len(CT_COVID)"
      ],
      "execution_count": 13,
      "outputs": []
    },
    {
      "cell_type": "code",
      "metadata": {
        "id": "XYtJa1szTtnL",
        "colab_type": "code",
        "colab": {}
      },
      "source": [
        "CT_NonCOVID_label = [0]*len(CT_NonCOVID)"
      ],
      "execution_count": 16,
      "outputs": []
    },
    {
      "cell_type": "code",
      "metadata": {
        "id": "JXiaRiyWT6Ri",
        "colab_type": "code",
        "colab": {}
      },
      "source": [
        "CT_COVID = np.array(CT_COVID)\n",
        "CT_NonCOVID = np.array(CT_NonCOVID)\n",
        "CT_COVID_label = np.array(CT_COVID_label)\n",
        "CT_NonCOVID_label = np.array(CT_NonCOVID_label)"
      ],
      "execution_count": 21,
      "outputs": []
    },
    {
      "cell_type": "code",
      "metadata": {
        "id": "cyuKIW_lUk39",
        "colab_type": "code",
        "colab": {
          "base_uri": "https://localhost:8080/",
          "height": 35
        },
        "outputId": "2c74764c-4e5b-4b43-b7dc-8f5764808f8c"
      },
      "source": [
        ""
      ],
      "execution_count": 25,
      "outputs": [
        {
          "output_type": "execute_result",
          "data": {
            "text/plain": [
              "(349, 397)"
            ]
          },
          "metadata": {
            "tags": []
          },
          "execution_count": 25
        }
      ]
    },
    {
      "cell_type": "code",
      "metadata": {
        "id": "qs1U3RbEUMtG",
        "colab_type": "code",
        "colab": {}
      },
      "source": [
        "data_x = np.concatenate([CT_COVID,CT_NonCOVID])\n",
        "data_y = np.concatenate([CT_COVID_label,CT_NonCOVID_label])"
      ],
      "execution_count": 26,
      "outputs": []
    },
    {
      "cell_type": "code",
      "metadata": {
        "id": "uXSwtqq5U306",
        "colab_type": "code",
        "colab": {}
      },
      "source": [
        "index = np.array(list(range(len(data_x))))"
      ],
      "execution_count": 32,
      "outputs": []
    },
    {
      "cell_type": "code",
      "metadata": {
        "id": "qJVWxZCCVPjd",
        "colab_type": "code",
        "colab": {}
      },
      "source": [
        "np.random.shuffle(index)"
      ],
      "execution_count": 35,
      "outputs": []
    },
    {
      "cell_type": "code",
      "metadata": {
        "id": "Mkl360MiWnBd",
        "colab_type": "code",
        "colab": {}
      },
      "source": [
        "train_x  = data_x[:int(len(index)*0.6)]\n",
        "valid_x = data_x[int(len(index)*0.6) : int(len(index)*0.6) + int(len(index)*0.2)]\n",
        "test_x = data_x[ int(len(index)*0.6) + int(len(index)*0.2) : int(len(index)*0.6) + 2*int(len(index)*0.2)]\n",
        "\n",
        "train_y  = data_y[:int(len(index)*0.6)]\n",
        "valid_y = data_y[int(len(index)*0.6) : int(len(index)*0.6) + int(len(index)*0.2)]\n",
        "test_y = data_y[ int(len(index)*0.6) + int(len(index)*0.2) : int(len(index)*0.6) + 2*int(len(index)*0.2)]"
      ],
      "execution_count": 49,
      "outputs": []
    },
    {
      "cell_type": "code",
      "metadata": {
        "id": "F28sz7E4XkUp",
        "colab_type": "code",
        "colab": {
          "base_uri": "https://localhost:8080/",
          "height": 35
        },
        "outputId": "98da9b48-b907-4db5-d214-bf107a25da67"
      },
      "source": [
        "train_x[0]"
      ],
      "execution_count": 52,
      "outputs": [
        {
          "output_type": "execute_result",
          "data": {
            "application/vnd.google.colaboratory.intrinsic": {
              "type": "string"
            },
            "text/plain": [
              "'2020.03.20.20037325-p23-123.png'"
            ]
          },
          "metadata": {
            "tags": []
          },
          "execution_count": 52
        }
      ]
    },
    {
      "cell_type": "code",
      "metadata": {
        "id": "KMLNfT9dXmfc",
        "colab_type": "code",
        "colab": {}
      },
      "source": [
        ""
      ],
      "execution_count": null,
      "outputs": []
    }
  ]
}
